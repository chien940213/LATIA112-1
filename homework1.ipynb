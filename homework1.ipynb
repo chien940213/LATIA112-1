{
 "cells": [
  {
   "cell_type": "code",
   "execution_count": 84,
   "metadata": {},
   "outputs": [],
   "source": [
    "import pandas as pd\n",
    "import io\n",
    "#open the file in binary mode and read it\n",
    "with open('僑生、港澳生數及其在學比率.csv','rb') as file:\n",
    "    content = file.read().decode('utf-8', errors='ignore')\n",
    "\n",
    "#create a dataframe from the content\n",
    "df = pd.read_csv(io.StringIO(content))\n",
    "#讀取CSV檔案\n",
    "data = pd.read_csv('僑生、港澳生數及其在學比率.csv')  # 替換為你的檔案路徑\n",
    "\n",
    "import matplotlib.pyplot as plt\n",
    "import matplotlib\n",
    "matplotlib.rc('font', family='Microsoft JhengHei')\n",
    "df\n",
   ]
  },
